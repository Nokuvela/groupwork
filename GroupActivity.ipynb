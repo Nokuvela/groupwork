{
 "cells": [
  {
   "cell_type": "code",
   "execution_count": 15,
   "id": "df67e5c3-733c-495e-b201-242651bfd14d",
   "metadata": {},
   "outputs": [
    {
     "name": "stdout",
     "output_type": "stream",
     "text": [
      "The shortest path from DBN to JHB is: DBN -> PMB -> HMT -> JHB with a total cost of 448\n"
     ]
    }
   ],
   "source": [
    "import heapq\n",
    "\n",
    "# Define the graph as an adjacency list\n",
    "graph = {\n",
    "    'DBN': {'PMB': 89, 'RBY': 112},\n",
    "    'PMB': {'RBY': 70, 'HMT': 209},\n",
    "    'RBY': {'HMT': 240},\n",
    "    'HMT': {'JHB': 150},\n",
    "    'JHB': {},\n",
    "    'VRT': {}\n",
    "}\n",
    "\n",
    "def dijkstra(graph, start, end):\n",
    "    # Priority queue to store (cost, node)\n",
    "    pq = [(0, start)]\n",
    "    # Dictionary to store the minimum cost to reach each node\n",
    "    costs = {node: float('inf') for node in graph}\n",
    "    costs[start] = 0\n",
    "    # Dictionary to store the path\n",
    "    path = {}\n",
    "    \n",
    "    while pq:\n",
    "        current_cost, current_node = heapq.heappop(pq)\n",
    "        \n",
    "        # If we reached the destination, reconstruct the path\n",
    "        if current_node == end:\n",
    "            shortest_path = []\n",
    "            while current_node in path:\n",
    "                shortest_path.append(current_node)\n",
    "                current_node = path[current_node]\n",
    "            shortest_path.append(start)\n",
    "            return shortest_path[::-1], current_cost\n",
    "        \n",
    "        if current_cost > costs[current_node]:\n",
    "            continue\n",
    "        \n",
    "        for neighbor, weight in graph[current_node].items():\n",
    "            cost = current_cost + weight\n",
    "            if cost < costs[neighbor]:\n",
    "                costs[neighbor] = cost\n",
    "                path[neighbor] = current_node\n",
    "                heapq.heappush(pq, (cost, neighbor))\n",
    "    \n",
    "    return None, float('inf')\n",
    "\n",
    "# Find the shortest path from DBN to JHB\n",
    "shortest_path, total_cost = dijkstra(graph, 'DBN', 'JHB')\n",
    "\n",
    "# Display the result\n",
    "print(f\"The shortest path from DBN to JHB is: {' -> '.join(shortest_path)} with a total cost of {total_cost}\")\n"
   ]
  },
  {
   "cell_type": "code",
   "execution_count": null,
   "id": "4f2409ea-b0c5-47d8-885d-7163e01879ea",
   "metadata": {},
   "outputs": [],
   "source": []
  }
 ],
 "metadata": {
  "kernelspec": {
   "display_name": "Python 3 (ipykernel)",
   "language": "python",
   "name": "python3"
  },
  "language_info": {
   "codemirror_mode": {
    "name": "ipython",
    "version": 3
   },
   "file_extension": ".py",
   "mimetype": "text/x-python",
   "name": "python",
   "nbconvert_exporter": "python",
   "pygments_lexer": "ipython3",
   "version": "3.11.7"
  }
 },
 "nbformat": 4,
 "nbformat_minor": 5
}
